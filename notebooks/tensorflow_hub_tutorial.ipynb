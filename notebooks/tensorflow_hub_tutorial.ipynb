{
 "cells": [
  {
   "cell_type": "markdown",
   "source": [
    "## TensorflowHUB Object Detection Tutorila\n",
    "tensorflowhub provides with pre-trained neural networks for various tasks\n",
    "This notebook repeats the tutorial from https://www.tensorflow.org/hub/tutorials/tf2_object_detection for Object Detection\n",
    "\n",
    "Goals:\n",
    "  - we will investigate how the models from tensorflow-hub perform out of the box;\n",
    "  - investigate how easy it is to apply Transfer Learning and finetune the models for our needs;"
   ],
   "metadata": {
    "collapsed": false
   }
  },
  {
   "cell_type": "code",
   "execution_count": null,
   "outputs": [],
   "source": [
    "import tensorflow as tf"
   ],
   "metadata": {
    "collapsed": false,
    "pycharm": {
     "is_executing": true
    }
   }
  },
  {
   "cell_type": "code",
   "execution_count": null,
   "outputs": [],
   "source": [],
   "metadata": {
    "collapsed": false
   }
  }
 ],
 "metadata": {
  "kernelspec": {
   "name": "object_detection_kernel",
   "language": "python",
   "display_name": "object_detection_kernel"
  },
  "language_info": {
   "codemirror_mode": {
    "name": "ipython",
    "version": 2
   },
   "file_extension": ".py",
   "mimetype": "text/x-python",
   "name": "python",
   "nbconvert_exporter": "python",
   "pygments_lexer": "ipython2",
   "version": "2.7.6"
  }
 },
 "nbformat": 4,
 "nbformat_minor": 0
}
